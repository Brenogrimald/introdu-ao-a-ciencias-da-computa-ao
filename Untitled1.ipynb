{
  "nbformat": 4,
  "nbformat_minor": 0,
  "metadata": {
    "colab": {
      "name": "Untitled1.ipynb",
      "provenance": [],
      "authorship_tag": "ABX9TyOpuPTFOYl4XV/jlNFaMZkk",
      "include_colab_link": true
    },
    "kernelspec": {
      "name": "python3",
      "display_name": "Python 3"
    },
    "language_info": {
      "name": "python"
    }
  },
  "cells": [
    {
      "cell_type": "markdown",
      "metadata": {
        "id": "view-in-github",
        "colab_type": "text"
      },
      "source": [
        "<a href=\"https://colab.research.google.com/github/Brenogrimald/introdu-ao-a-ciencias-da-computa-ao/blob/main/Untitled1.ipynb\" target=\"_parent\"><img src=\"https://colab.research.google.com/assets/colab-badge.svg\" alt=\"Open In Colab\"/></a>"
      ]
    },
    {
      "cell_type": "code",
      "execution_count": 5,
      "metadata": {
        "colab": {
          "base_uri": "https://localhost:8080/"
        },
        "id": "WbJOnkYqSp3l",
        "outputId": "76334823-9479-43cf-d834-e8d01baf411b"
      },
      "outputs": [
        {
          "output_type": "stream",
          "name": "stdout",
          "text": [
            "digite seu nomemarcelo\n",
            "voce nao e o breno\n"
          ]
        }
      ],
      "source": [
        "nome = input('digite seu nome')\n",
        "if nome == 'breno':\n",
        "     print('ola breno')\n",
        "else:\n",
        "     print('voce nao e o breno')"
      ]
    }
  ]
}